{
 "cells": [
  {
   "cell_type": "markdown",
   "metadata": {},
   "source": [
    "1. Write a function to calculate all possible assignment vectors of 2n users, where n users are assigned to group 0 (control), and n users are assigned to group 1 (treatment)."
   ]
  },
  {
   "cell_type": "code",
   "execution_count": 10,
   "metadata": {},
   "outputs": [
    {
     "name": "stdout",
     "output_type": "stream",
     "text": [
      "[[1, 1, 0, 0], [1, 0, 1, 0], [1, 0, 0, 1], [0, 1, 1, 0], [0, 1, 0, 1], [0, 0, 1, 1]]\n"
     ]
    }
   ],
   "source": [
    "def n_choose_k(n, k):\n",
    "    \"\"\" function to choose k from n \"\"\"\n",
    "    if k == 1:\n",
    "        ans = []\n",
    "        for i in range(n):\n",
    "            tmp = [0] * n\n",
    "            tmp[i] = 1\n",
    "            ans.append(tmp)\n",
    "        return ans\n",
    "    \n",
    "    if k == n:\n",
    "        return [[1] * n]\n",
    "    \n",
    "    ans = []\n",
    "    space = n - k + 1\n",
    "    for i in range(space):\n",
    "        assignment = [0] * (i + 1)\n",
    "        assignment[i] = 1\n",
    "        for c in n_choose_k(n - i - 1, k - 1):\n",
    "            ans.append(assignment + c)\n",
    "    return ans\n",
    "\n",
    "# test: choose 2 from 4\n",
    "print(n_choose_k(4, 2))"
   ]
  },
  {
   "cell_type": "code",
   "execution_count": 11,
   "metadata": {},
   "outputs": [
    {
     "name": "stdout",
     "output_type": "stream",
     "text": [
      "hello world\n"
     ]
    }
   ],
   "source": [
    "print('hello world')"
   ]
  },
  {
   "cell_type": "code",
   "execution_count": 5,
   "metadata": {},
   "outputs": [
    {
     "name": "stdout",
     "output_type": "stream",
     "text": [
      "3.11.5 (main, Sep 11 2023, 08:31:25) [Clang 14.0.6 ]\n"
     ]
    }
   ],
   "source": [
    "import sys\n",
    "print(sys.version)\n"
   ]
  }
 ],
 "metadata": {
  "kernelspec": {
   "display_name": "Python 3",
   "language": "python",
   "name": "python3"
  },
  "language_info": {
   "codemirror_mode": {
    "name": "ipython",
    "version": 3
   },
   "file_extension": ".py",
   "mimetype": "text/x-python",
   "name": "python",
   "nbconvert_exporter": "python",
   "pygments_lexer": "ipython3",
   "version": "3.11.5"
  }
 },
 "nbformat": 4,
 "nbformat_minor": 2
}
